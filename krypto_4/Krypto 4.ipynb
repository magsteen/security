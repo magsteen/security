{
 "cells": [
  {
   "cell_type": "markdown",
   "metadata": {},
   "source": [
    "## Oppgave 1\n",
    "\n",
    "### a)"
   ]
  },
  {
   "cell_type": "code",
   "execution_count": 410,
   "metadata": {},
   "outputs": [
    {
     "name": "stdout",
     "output_type": "stream",
     "text": [
      "x: 1, i: 1\n",
      "x: 2, i: 10\n",
      "x: 3, i: 5\n",
      "x: 4, i: 5\n",
      "x: 5, i: 5\n",
      "x: 6, i: 10\n",
      "x: 7, i: 10\n",
      "x: 8, i: 10\n",
      "x: 9, i: 5\n"
     ]
    }
   ],
   "source": [
    "n = 11\n",
    "\n",
    "for x in range(1,10):\n",
    "    for i in range(1, n):\n",
    "        if pow(x, i, n) == 1:\n",
    "            print(f\"x: {x}, i: {i}\")\n",
    "            break"
   ]
  },
  {
   "cell_type": "markdown",
   "metadata": {},
   "source": [
    "### b)"
   ]
  },
  {
   "cell_type": "code",
   "execution_count": 411,
   "metadata": {},
   "outputs": [
    {
     "data": {
      "text/plain": [
       "([(1, 1),\n",
       "  (2, 6),\n",
       "  (3, 4),\n",
       "  (4, 3),\n",
       "  (5, 9),\n",
       "  (6, 2),\n",
       "  (7, 8),\n",
       "  (8, 7),\n",
       "  (9, 5),\n",
       "  (10, 10)],\n",
       " [1, 10, 5, 5, 5, 10, 10, 10, 5, 2])"
      ]
     },
     "execution_count": 411,
     "metadata": {},
     "output_type": "execute_result"
    }
   ],
   "source": [
    "import numpy as np\n",
    "import math as math\n",
    "\n",
    "def find_mult_invers(i: int, n: int):\n",
    "    for j in range(n):\n",
    "        if (i*j)%n == 1:\n",
    "            return (i, j)\n",
    "    return None\n",
    "\n",
    "def find_mult_inverses(n: int):\n",
    "    mult_inverses = []\n",
    "    for i in range(n):\n",
    "        res = find_mult_invers(i, n)\n",
    "        if res != None:\n",
    "            mult_inverses.append(res)\n",
    "    return mult_inverses\n",
    "\n",
    "def find_orders_of_mult_inverses(n: int, mult_inverses: list):\n",
    "    orders = [0] * len(mult_inverses)\n",
    "    for i, val in enumerate(mult_inverses):\n",
    "        k = 1\n",
    "        while True: \n",
    "            if pow(val[0], k, n) == 1:\n",
    "                orders[i] = k\n",
    "                break\n",
    "            k += 1\n",
    "    \n",
    "    return orders\n",
    "\n",
    "n = 11\n",
    "\n",
    "mult_inverses = find_mult_inverses(n)\n",
    "mult_inverse_orders = find_orders_of_mult_inverses(n, mult_inverses)\n",
    "\n",
    "mult_inverses, mult_inverse_orders"
   ]
  },
  {
   "cell_type": "code",
   "execution_count": 412,
   "metadata": {},
   "outputs": [
    {
     "data": {
      "text/plain": [
       "True"
      ]
     },
     "execution_count": 412,
     "metadata": {},
     "output_type": "execute_result"
    }
   ],
   "source": [
    "import sympy as sp\n",
    "\n",
    "def affirm():\n",
    "    for order in mult_inverse_orders:\n",
    "        if sp.totient(n) % order != 0:\n",
    "            return False\n",
    "    return True\n",
    "\n",
    "affirm()\n",
    "\n"
   ]
  },
  {
   "cell_type": "markdown",
   "metadata": {},
   "source": [
    "Vet ikke hvilket teorem vi bruker her. :("
   ]
  },
  {
   "cell_type": "markdown",
   "metadata": {},
   "source": [
    "### c)\n",
    "\n",
    "$a^?=b \\pmod{n}$"
   ]
  },
  {
   "cell_type": "code",
   "execution_count": 413,
   "metadata": {},
   "outputs": [
    {
     "data": {
      "text/plain": [
       "array([[0.  , 1.  , 1.58, 2.  , 2.32, 2.58, 2.81, 3.  , 3.17, 3.32],\n",
       "       [0.  , 0.63, 1.  , 1.26, 1.46, 1.63, 1.77, 1.89, 2.  , 2.1 ],\n",
       "       [0.  , 0.5 , 0.79, 1.  , 1.16, 1.29, 1.4 , 1.5 , 1.58, 1.66],\n",
       "       [0.  , 0.43, 0.68, 0.86, 1.  , 1.11, 1.21, 1.29, 1.37, 1.43],\n",
       "       [0.  , 0.39, 0.61, 0.77, 0.9 , 1.  , 1.09, 1.16, 1.23, 1.29],\n",
       "       [0.  , 0.36, 0.56, 0.71, 0.83, 0.92, 1.  , 1.07, 1.13, 1.18],\n",
       "       [0.  , 0.33, 0.53, 0.67, 0.77, 0.86, 0.94, 1.  , 1.06, 1.11],\n",
       "       [0.  , 0.32, 0.5 , 0.63, 0.73, 0.82, 0.89, 0.95, 1.  , 1.05],\n",
       "       [0.  , 0.3 , 0.48, 0.6 , 0.7 , 0.78, 0.85, 0.9 , 0.95, 1.  ]])"
      ]
     },
     "execution_count": 413,
     "metadata": {},
     "output_type": "execute_result"
    }
   ],
   "source": [
    "def log_mult_table(n: int, mult_inverses: list):\n",
    "    mult_invers_len = len(mult_inverses)\n",
    "    table = np.zeros((mult_invers_len-1, mult_invers_len))\n",
    "    for a, alpha_val in enumerate(mult_inverses[1:]):\n",
    "        for b, beta_val in enumerate(mult_inverses):\n",
    "            table[a][b] = round(math.log(beta_val[0], alpha_val[0]), 2)\n",
    "    \n",
    "    return table\n",
    "\n",
    "log_mult_table(n, mult_inverses)"
   ]
  },
  {
   "cell_type": "markdown",
   "metadata": {},
   "source": [
    "## Oppgave 2\n",
    "\n",
    "### a)"
   ]
  },
  {
   "cell_type": "code",
   "execution_count": 414,
   "metadata": {},
   "outputs": [
    {
     "data": {
      "text/plain": [
       "(3,\n",
       " [(1, 1),\n",
       "  (2, 9),\n",
       "  (3, 6),\n",
       "  (4, 13),\n",
       "  (5, 7),\n",
       "  (6, 3),\n",
       "  (7, 5),\n",
       "  (8, 15),\n",
       "  (9, 2),\n",
       "  (10, 12),\n",
       "  (11, 14),\n",
       "  (12, 10),\n",
       "  (13, 4),\n",
       "  (14, 11),\n",
       "  (15, 8),\n",
       "  (16, 16)])"
      ]
     },
     "execution_count": 414,
     "metadata": {},
     "output_type": "execute_result"
    }
   ],
   "source": [
    "def find_primitive_root(n: int):\n",
    "    x = sp.totient(n)\n",
    "    prime_factors = list(sp.factorint(x).keys())\n",
    "    exponents = [x / factor for factor in prime_factors]\n",
    "    roots =[]\n",
    "    \n",
    "    i = 0\n",
    "    while True:\n",
    "        prime = sp.nextprime(1, i)\n",
    "        done = True\n",
    "        for exponent in exponents:\n",
    "            if prime**exponent% n == 1:\n",
    "                done = False\n",
    "                break\n",
    "            \n",
    "        if done:\n",
    "            return prime\n",
    "        \n",
    "        i += 1 \n",
    "\n",
    "n = 17\n",
    "\n",
    "prim_root = find_primitive_root(n)\n",
    "mult_inverse_elements = find_mult_inverses(n)\n",
    "\n",
    "if mult_inverse_elements.__contains__(prim_root):\n",
    "    print(\"YES\")\n",
    "\n",
    "prim_root, mult_inverse_elements\n"
   ]
  },
  {
   "cell_type": "markdown",
   "metadata": {},
   "source": [
    "## Oppgave 3\n",
    "\n",
    "### a)"
   ]
  },
  {
   "cell_type": "code",
   "execution_count": 415,
   "metadata": {},
   "outputs": [],
   "source": [
    "# From the task sepcifications we can define:\n",
    "p = 19\n",
    "alpha = 13\n",
    "a = 5\n",
    "beta = 14\n",
    "\n",
    "public_key = (p, alpha, beta)\n",
    "private_key = (p, alpha, a)"
   ]
  },
  {
   "cell_type": "markdown",
   "metadata": {},
   "source": [
    "### b)"
   ]
  },
  {
   "cell_type": "code",
   "execution_count": 416,
   "metadata": {},
   "outputs": [
    {
     "data": {
      "text/plain": [
       "((11, 2), 3)"
      ]
     },
     "execution_count": 416,
     "metadata": {},
     "output_type": "execute_result"
    }
   ],
   "source": [
    "import random as rand\n",
    "\n",
    "x = 3\n",
    "k = 6\n",
    "\n",
    "def el_gamal_encrypt(msg):\n",
    "    return (\n",
    "        int(pow(alpha, k, p)), \n",
    "        int(((msg % p) * pow(beta, k, p)) % p)\n",
    "    )\n",
    "\n",
    "def el_gamal_decrypt(cipher_tuple):   \n",
    "    return (cipher_tuple[1] * find_mult_invers(cipher_tuple[0]**a % p, p)[1]) % p\n",
    "\n",
    "encrypted_msg = el_gamal_encrypt(x)\n",
    "decrypted_msg = el_gamal_decrypt(encrypted_msg)\n",
    "\n",
    "encrypted_msg, decrypted_msg"
   ]
  },
  {
   "cell_type": "markdown",
   "metadata": {},
   "source": [
    "### c)"
   ]
  },
  {
   "cell_type": "code",
   "execution_count": 417,
   "metadata": {},
   "outputs": [
    {
     "data": {
      "text/plain": [
       "(18, (11, 12))"
      ]
     },
     "execution_count": 417,
     "metadata": {},
     "output_type": "execute_result"
    }
   ],
   "source": [
    "encrypted_msg = (12,11)\n",
    "\n",
    "decrypted_msg = el_gamal_decrypt(encrypted_msg)\n",
    "encrypted_msg = el_gamal_encrypt(decrypted_msg)\n",
    "\n",
    "decrypted_msg, encrypted_msg"
   ]
  },
  {
   "cell_type": "markdown",
   "metadata": {},
   "source": [
    "## Oppgave 4"
   ]
  },
  {
   "cell_type": "code",
   "execution_count": 418,
   "metadata": {},
   "outputs": [],
   "source": [
    "def shanks(p, alpha, beta):\n",
    "    ROUNDING = 4\n",
    "    m = math.ceil(math.sqrt(p))\n",
    "    alpha_m = math.pow(alpha, m)\n",
    "    first_pairs = {}\n",
    "    second_pairs = {}\n",
    "    for x in range(m-1):\n",
    "        first_pairs.update({round(math.pow(alpha_m, x), ROUNDING): x})\n",
    "        second_pairs.update({round(beta * math.pow(alpha, -x), ROUNDING): x})\n",
    "        \n",
    "    for x in first_pairs.keys():\n",
    "        try:\n",
    "            i = second_pairs[x]\n",
    "            return (x + i) % p\n",
    "        except KeyError:\n",
    "            continue\n",
    "    \n",
    "#shanks(29, 11, 16)\n",
    "shanks(41, 6, 3)"
   ]
  },
  {
   "cell_type": "markdown",
   "metadata": {},
   "source": [
    "## Oppgave 5"
   ]
  },
  {
   "cell_type": "code",
   "execution_count": 419,
   "metadata": {},
   "outputs": [],
   "source": [
    "class RSAPrivateKey:\n",
    "    def __init__(self, a: int, n: int):\n",
    "        self.a = a\n",
    "        self.n = n\n",
    "\n",
    "class RSAPublicKey:\n",
    "    def __init__(self, b: int, n: int):\n",
    "        self.b = b\n",
    "        self.n = n\n",
    "\n",
    "class SignedRSASystem:\n",
    "    def __init__(self, p: int, q: int, a: int, b: int):\n",
    "        self.n = p * q\n",
    "        self.public_key = RSAPublicKey(b, self.n)\n",
    "        self.private_key = RSAPrivateKey(a, self.n)\n",
    "\n",
    "    def decrypt(self, y: int):\n",
    "        return pow(y, self.private_key.a, self.private_key.n)\n",
    "\n",
    "    def sign(self, x: int):\n",
    "        return self.decrypt(x)\n",
    "    \n",
    "\n",
    "def encrypt(x: int, public_key: RSAPublicKey):\n",
    "    return pow(x, public_key.b, public_key.n)\n",
    "\n",
    "def verify(x: int, y: int, public_key: RSAPublicKey):\n",
    "    return x % public_key.n == encrypt(y, public_key)"
   ]
  },
  {
   "cell_type": "markdown",
   "metadata": {},
   "source": [
    "### a)"
   ]
  },
  {
   "cell_type": "code",
   "execution_count": 420,
   "metadata": {},
   "outputs": [
    {
     "data": {
      "text/plain": [
       "(True, True)"
      ]
     },
     "execution_count": 420,
     "metadata": {},
     "output_type": "execute_result"
    }
   ],
   "source": [
    "Bobs_RSA = SignedRSASystem(p=23, q=19, a=61, b=13)\n",
    "\n",
    "first_is_ok = verify(78, 394, Bobs_RSA.public_key)\n",
    "second_is_ok = verify(123, 289, Bobs_RSA.public_key)\n",
    "\n",
    "first_is_ok, second_is_ok"
   ]
  },
  {
   "cell_type": "markdown",
   "metadata": {},
   "source": [
    "### b)\n",
    "\n",
    "Fra potens reglene kan vi opphøye både melding og signatur med et vilkårlig tall $\\pmod{n}$ uten å endre på forholdet mellom meldingen og signaturen.  "
   ]
  },
  {
   "cell_type": "code",
   "execution_count": 428,
   "metadata": {},
   "outputs": [
    {
     "data": {
      "text/plain": [
       "True"
      ]
     },
     "execution_count": 428,
     "metadata": {},
     "output_type": "execute_result"
    }
   ],
   "source": [
    "original_msg = 100\n",
    "original_signature = Bobs_RSA.sign(original_msg)\n",
    "\n",
    "original_encrypted_msg = encrypt(original_msg, Bobs_RSA.public_key)\n",
    "original_encrypted_sign = encrypt(original_signature, Bobs_RSA.public_key)\n",
    "\n",
    "tweaked_encrypted_msg = pow(original_encrypted_msg, 2, Bobs_RSA.n)\n",
    "tweaked_signed_encrypted_msg = pow(original_encrypted_sign, 2, Bobs_RSA.n)\n",
    "\n",
    "tweaked_decrypted_msg = Bobs_RSA.decrypt(tweaked_encrypted_msg)\n",
    "tweaked_signed_decrypted_msg = Bobs_RSA.decrypt(tweaked_signed_encrypted_msg)\n",
    "\n",
    "is_tweaked_signed = verify(tweaked_decrypted_msg, tweaked_signed_decrypted_msg, Bobs_RSA.public_key)\n",
    "\n",
    "is_tweaked_signed"
   ]
  },
  {
   "cell_type": "markdown",
   "metadata": {},
   "source": [
    "### c)"
   ]
  },
  {
   "cell_type": "code",
   "execution_count": 422,
   "metadata": {},
   "outputs": [
    {
     "name": "stdout",
     "output_type": "stream",
     "text": [
      "190 380\n"
     ]
    },
    {
     "data": {
      "text/plain": [
       "(True, True)"
      ]
     },
     "execution_count": 422,
     "metadata": {},
     "output_type": "execute_result"
    }
   ],
   "source": [
    "m_1, s_1 = 38, 171\n",
    "m_2, s_2 = 97, 337\n",
    "\n",
    "evil_msg = (m_1 * m_2) % Bobs_RSA.n\n",
    "stolen_sign = (s_1 * s_2) % Bobs_RSA.n\n",
    "\n",
    "print(evil_msg, stolen_sign)\n",
    "\n",
    "verify(m_1, s_1, Bobs_RSA.public_key), verify(evil_msg, stolen_sign, Bobs_RSA.public_key)"
   ]
  },
  {
   "cell_type": "markdown",
   "metadata": {},
   "source": [
    "### d)"
   ]
  },
  {
   "cell_type": "code",
   "execution_count": 427,
   "metadata": {},
   "outputs": [
    {
     "data": {
      "text/plain": [
       "(True, 109)"
      ]
     },
     "execution_count": 427,
     "metadata": {},
     "output_type": "execute_result"
    }
   ],
   "source": [
    "Alice_RSA = SignedRSASystem(p=17, q=43, a=19, b=283)\n",
    "\n",
    "# Alice sends signed message to Bob\n",
    "msg = 109\n",
    "signature = Alice_RSA.sign(msg)\n",
    "\n",
    "encrypted_msg = encrypt(msg, Bobs_RSA.public_key)\n",
    "encrypted_sign = encrypt(signature, Bobs_RSA.public_key)\n",
    "\n",
    "\n",
    "# Bob reads signed message from Alice\n",
    "decrypted_msg = Bobs_RSA.decrypt(encrypted_msg)\n",
    "decrypted_sign = Bobs_RSA.decrypt(encrypted_sign)\n",
    "\n",
    "is_from_alice = verify(decrypted_msg, decrypted_sign, Alice_RSA.public_key)\n",
    "\n",
    "\n",
    "is_from_alice, decrypted_msg\n"
   ]
  }
 ],
 "metadata": {
  "kernelspec": {
   "display_name": "Python 3.10.8 ('krypto_4-LcGwTfFV')",
   "language": "python",
   "name": "python3"
  },
  "language_info": {
   "codemirror_mode": {
    "name": "ipython",
    "version": 3
   },
   "file_extension": ".py",
   "mimetype": "text/x-python",
   "name": "python",
   "nbconvert_exporter": "python",
   "pygments_lexer": "ipython3",
   "version": "3.10.8"
  },
  "orig_nbformat": 4,
  "vscode": {
   "interpreter": {
    "hash": "e2de4c117e57b7166a43650eb852eb2942f44ecb20469d2cacf4738cac345ee2"
   }
  }
 },
 "nbformat": 4,
 "nbformat_minor": 2
}

{
 "cells": [
  {
   "attachments": {},
   "cell_type": "markdown",
   "metadata": {
    "datalore": {
     "hide_input_from_viewers": false,
     "hide_output_from_viewers": false,
     "node_id": "d4u2B1ywC8MobQH6b0cBb3",
     "type": "MD"
    }
   },
   "source": [
    "## Oppgave 1\n",
    "\n",
    "$K = 1001$\n",
    "\n",
    "$ipad = 0011$\n",
    "\n",
    "$opad = 0101$\n",
    "\n",
    "$h(x) = x^2\\pmod{2^8}$ hvor vi henter ut kun de 4 midterste tallene i 8-bitstrengen. (Kan gjøres med en AND operasjon med tallet 00111100, etterfulgt av 2 bitskift til høyre. Se demo i python kode celle under.)\n",
    "\n",
    "$HMAC(K,x) = h((K \\oplus opad)||h((K \\oplus ipad)||x))$\n",
    "\n",
    "### a)\n",
    "melding her omtales som x:\n",
    "x = 0110\n",
    "\n",
    "Finner $HMAC(1001, 0110)$:\n",
    "- $K \\oplus ipad = 1001 \\oplus 0011 = 1010$\n",
    "- $(K \\oplus ipad) || x = 1010 || 0110 = 10100110$\n",
    "- $h((K \\oplus ipad)||x) = h(10100110) = ((10100110^2\\pmod{2^8})\\ \\&\\ 00111100) >> 2 = 1001$\n",
    "- $K \\oplus opad = 1001 \\oplus 0101 = 1100$\n",
    "- $(K \\oplus opad)||h((K \\oplus ipad)||x) = 1100||1001 = 11001001$\n",
    "- $h((K \\oplus opad)||h((K \\oplus ipad)||x)) = ((11001001^2\\pmod{2^8})\\ \\&\\ 00111100) >> 2 = 0100$\n",
    "\n",
    "$HMAC(1001, 0110) = \\underline{\\underline{0100}}$\n",
    "\n",
    "### b)\n",
    "\n",
    "Ja fordi vi vet at HMAC 0100 skal tilsvare melding 0110. Altså er det grunn til å tro at meldingen ikke er autentisk."
   ]
  },
  {
   "cell_type": "code",
   "execution_count": 1,
   "metadata": {
    "datalore": {
     "hide_input_from_viewers": false,
     "hide_output_from_viewers": false,
     "node_id": "umnAZ1Cyv4fJADtj9T72Ng",
     "type": "CODE"
    }
   },
   "outputs": [
    {
     "data": {
      "text/plain": [
       "'0b1001'"
      ]
     },
     "execution_count": 1,
     "metadata": {},
     "output_type": "execute_result"
    }
   ],
   "source": [
    "\n",
    "bin(((int('0b10100110',2)**2 % 2**8) & int('0b00111100', 2)) >> 2)"
   ]
  },
  {
   "cell_type": "code",
   "execution_count": 2,
   "metadata": {
    "datalore": {
     "hide_input_from_viewers": false,
     "hide_output_from_viewers": false,
     "node_id": "RUqTSfbujHhXyuD0nGgcFS",
     "type": "CODE"
    }
   },
   "outputs": [
    {
     "data": {
      "text/plain": [
       "'0b100'"
      ]
     },
     "execution_count": 2,
     "metadata": {},
     "output_type": "execute_result"
    }
   ],
   "source": [
    "bin(((int('0b11001001',2)**2 % 2**8) & int('0b00111100', 2)) >> 2)"
   ]
  },
  {
   "cell_type": "code",
   "execution_count": 3,
   "metadata": {
    "datalore": {
     "hide_input_from_viewers": false,
     "hide_output_from_viewers": false,
     "node_id": "H8Gudvmj6lJrdGtq9YoS4K",
     "type": "CODE"
    }
   },
   "outputs": [
    {
     "name": "stdout",
     "output_type": "stream",
     "text": [
      "CBC-MAC(x ): 0b1101\n",
      "CBC-MAC(x'): 0b10\n"
     ]
    }
   ],
   "source": [
    "## Oppgave 2\n",
    "\n",
    "# Blocksize is predifined as 4-bit\n",
    "BLOCK_SIZE = 2**4\n",
    "\n",
    "def cesar(x):\n",
    "    return (x+3) % BLOCK_SIZE\n",
    "\n",
    "def cbc_mac(msg):\n",
    "    y = 0\n",
    "    prev_y = 0\n",
    "    for x in msg:\n",
    "        y = cesar(prev_y ^ x)\n",
    "        prev_y = y\n",
    "    return y\n",
    "\n",
    "print(f\"CBC-MAC(x ): {bin(cbc_mac([int('1101',2), int('1111',2), int('1010',2), int('0001',2)]))}\")\n",
    "print(f\"CBC-MAC(x'): {bin(cbc_mac([int('0010',2), int('1100',2), int('0001',2), int('1111',2)]))}\")"
   ]
  },
  {
   "attachments": {},
   "cell_type": "markdown",
   "metadata": {
    "datalore": {
     "hide_input_from_viewers": false,
     "hide_output_from_viewers": false,
     "node_id": "0BcaQUmSYXemeVFxA44nUy",
     "type": "MD"
    }
   },
   "source": [
    "## Oppgave 3\n",
    "\n",
    "### a)\n",
    "\n",
    "$z_{i+4} = z_{i} + z_{i+1} + z_{i+2} + z_{i+3}\\pmod 2$\n",
    "\n",
    "Nøkler:\n",
    "- $K_{1} = 1000$\n",
    "- $K_{2} = 0011$\n",
    "- $K_{3} = 1111$\n",
    "\n",
    "m = 4\n",
    "\n",
    "Vi har kun nøkler 1 til 3 som betyr at vi ikke kjenner $z_{i+3}$\n",
    "\n",
    "Finner $z_{i+3}$:\n",
    "- $z_{i+3} = z_{i} + z_{i+1} + z_{i+2}\\pmod 2 = c_{1} \\cdot K_{1} + c_{2} \\cdot K_{2} + c_{3} \\cdot K_{3} \\pmod 2 = 1 \\cdot 1000 + 1 \\cdot 0011 + 1 \\cdot 1111 \\pmod 2$\n",
    "\n",
    "\n",
    "Dette gir en maks periode på $2^{4} - 1 = \\underline{\\underline{15}}$\n",
    "\n",
    "### b)\n",
    "Vi har samme m her (m=4)\n",
    "\n",
    "Dermed vil også maks perioden her være $2^{4} - 1 = \\underline{\\underline{15}}$"
   ]
  },
  {
   "cell_type": "code",
   "execution_count": 12,
   "metadata": {},
   "outputs": [
    {
     "name": "stdout",
     "output_type": "stream",
     "text": [
      "0\n",
      "0\n"
     ]
    }
   ],
   "source": [
    "z_3 = (int('0b1000', 2) + int('0b0011', 2) + int('0b1111', 2)) % 2\n",
    "print(z_3)\n",
    "\n",
    "z_4 = (z_3 + z_3) % 2\n",
    "print(z_4)"
   ]
  },
  {
   "cell_type": "code",
   "execution_count": null,
   "metadata": {},
   "outputs": [],
   "source": [
    "z_3 = (int('0b1000', 2) + int('0b0011', 2) + int('0b1111', 2)) % 2\n",
    "print(z_3)\n",
    "\n",
    "z_4 = (z_3 + z_3) % 2\n",
    "print(z_4)"
   ]
  },
  {
   "attachments": {},
   "cell_type": "markdown",
   "metadata": {
    "datalore": {
     "hide_input_from_viewers": false,
     "hide_output_from_viewers": false,
     "node_id": "kxNe4uP0Pjtyicq7lo32iU",
     "type": "MD"
    }
   },
   "source": [
    "## Oppgave 4\n",
    "\n",
    "### a)\n",
    "\n",
    "*Se kode celle under*\n",
    "\n",
    "### b)\n",
    "\n",
    "Kriterier for valg av p og q:\n",
    "- p og q skal begge være primtall fra og med 256, til og med 65535 (heltall representert med 2 og kun 2 bytes).\n",
    "- Siden $e = 3$ er gitt så er valget av p og q basert på kompatibilitet med denne variabelen. Mer spesifikt så må den største felles faktoren mellom e og LCM(p-1, q-1) være 1.\n",
    "\n",
    "\n",
    "### c)"
   ]
  },
  {
   "cell_type": "code",
   "execution_count": 50,
   "metadata": {
    "datalore": {
     "hide_input_from_viewers": false,
     "hide_output_from_viewers": false,
     "node_id": "HqadgKdAaI2GhqUbtZP3rN",
     "type": "CODE"
    }
   },
   "outputs": [
    {
     "name": "stdout",
     "output_type": "stream",
     "text": [
      "Start text: 12345\n",
      "Cipher text: 3008742485\n",
      "End text: 12345\n"
     ]
    }
   ],
   "source": [
    "## Oppgave 4\n",
    "import sympy, math\n",
    "\n",
    "PRIME_RANGE_LOWER_BOUND = 256\n",
    "PRIME_RANGE_UPPER_BOUND = 65535\n",
    "\n",
    "#source: https://www.geeksforgeeks.org/euclidean-algorithms-basic-and-extended/\n",
    "def gcd_extended(a, b):\n",
    "    if a == 0:\n",
    "        return b, 0, 1\n",
    "    \n",
    "    d, x_tmp, y_tmp = gcd_extended(b % a, a)\n",
    "\n",
    "    x = y_tmp - (b // a) * x_tmp\n",
    "    y = x_tmp\n",
    "\n",
    "    return d, x, y\n",
    "\n",
    "# source: https://www.geeksforgeeks.org/exponential-squaring-fast-modulo-multiplication/\n",
    "def exponentiation(bas, exp, N):\n",
    "    t = 1\n",
    "    while(exp > 0):\n",
    "        # for cases where exponent\n",
    "        # is not an even value\n",
    "        if (exp % 2 != 0):\n",
    "            t = (t * bas) % N;\n",
    "        bas = (bas * bas) % N;\n",
    "        exp = int(exp / 2);\n",
    "    return t % N;\n",
    "\n",
    "def key_gen():\n",
    "    l_n = -1\n",
    "    is_not_done = True\n",
    "    \n",
    "    # Public key part\n",
    "    e = 3\n",
    "    \n",
    "    while is_not_done:\n",
    "        p = sympy.randprime(PRIME_RANGE_LOWER_BOUND, PRIME_RANGE_UPPER_BOUND)\n",
    "        q = sympy.randprime(PRIME_RANGE_LOWER_BOUND, PRIME_RANGE_UPPER_BOUND)\n",
    "        while p == q: #Ensure p and q arent equal\n",
    "            q = sympy.randprime(PRIME_RANGE_LOWER_BOUND, PRIME_RANGE_UPPER_BOUND)\n",
    "\n",
    "        # Public key part\n",
    "        n = p * q\n",
    "\n",
    "        l_n = ((p-1) * (q-1)) // math.gcd(p-1,q-1)\n",
    "\n",
    "        if math.gcd(e, l_n) == 1:\n",
    "            is_not_done = False\n",
    "\n",
    "    _, x, y = gcd_extended(e, l_n)\n",
    "\n",
    "    d = -1\n",
    "    #Ensure we pick the biggest value\n",
    "    if x > y and (x * e) % l_n == 1:\n",
    "        d = x\n",
    "    elif (y * e) % l_n == 1:\n",
    "        d = y\n",
    "    else:\n",
    "        n, e, d = key_gen() ## Try again\n",
    "\n",
    "    return n, e, d\n",
    "\n",
    "def encrypt(msg, e, n):\n",
    "    return exponentiation(msg, e, n)\n",
    "\n",
    "def decrypt(cipher_text, d, n):\n",
    "    return exponentiation(cipher_text, d, n)\n",
    "\n",
    "n, e, d = key_gen()\n",
    "\n",
    "#public_key  = (n, e)\n",
    "#private_key = (n, d)\n",
    "\n",
    "start_value = 12345\n",
    "print(f\"Start text: {start_value}\")\n",
    "\n",
    "encrypted_value = encrypt(start_value, e, n)\n",
    "print(f\"Cipher text: {encrypted_value}\")\n",
    "\n",
    "end_value = decrypt(encrypted_value, d, n)\n",
    "print(f\"End text: {end_value}\")"
   ]
  },
  {
   "attachments": {},
   "cell_type": "markdown",
   "metadata": {
    "datalore": {
     "hide_input_from_viewers": false,
     "hide_output_from_viewers": false,
     "node_id": "HRghSdqjRo5ddRTsGXA4KY",
     "type": "MD"
    }
   },
   "source": [
    "## Oppgave 5\n",
    "\n",
    "### a)\n",
    "\n",
    "Vi starter med:\n",
    "\n",
    "$n = 1829$\n",
    "\n",
    "$B = 5$\n",
    "\n",
    "Velger $a$ (en faktor av n): \n",
    "\n",
    "$a = 2$\n",
    "\n",
    "Regner ut A:\n",
    "\n",
    "$A = a^{B!}\\pmod{n} = 2^{5!}\\pmod{1829} = 2^{120}\\pmod{1829} = 311$\n",
    "\n",
    "Regner ut F:\n",
    "\n",
    "$F = gcd(A-1,n) = gcd(310, 1829) = 31$\n",
    "\n",
    "Siden F er større enn 1 vet vi at F er en primtalls faktor av n\n",
    "\n",
    "Deler n på F:\n",
    "\n",
    "$E = n / F = 1829 / 31 = 59$\n",
    "\n",
    "Dermed har vi funnet to primtalls faktorer $\\underline{\\underline{31}}$ og $\\underline{\\underline{59}}$ som sammen danner $1829$ ($31 \\cdot 59 = 1829$).\n",
    "\n",
    "### b)\n",
    "\n",
    "Fra \n",
    "\n",
    "### c)\n",
    "$n = 6319$"
   ]
  },
  {
   "cell_type": "code",
   "execution_count": 51,
   "metadata": {
    "datalore": {
     "hide_input_from_viewers": false,
     "hide_output_from_viewers": false,
     "node_id": "m7LGRdYfS8xGrrOYwzdOrx",
     "type": "CODE"
    }
   },
   "outputs": [
    {
     "name": "stdout",
     "output_type": "stream",
     "text": [
      "311\n",
      "1628\n",
      "1\n"
     ]
    },
    {
     "data": {
      "text/plain": [
       "'failed'"
      ]
     },
     "execution_count": 51,
     "metadata": {},
     "output_type": "execute_result"
    }
   ],
   "source": [
    "import math\n",
    "## Oppgave 5\n",
    "\n",
    "def pollard(n, B):\n",
    "    a = 2\n",
    "\n",
    "    for i in range(2,B):\n",
    "        a = (a**i) % n\n",
    "    print(a)\n",
    "    d = math.gcd(a-1, n)\n",
    "    print(d)\n",
    "    if 1 < d < n:\n",
    "        return d\n",
    "    \n",
    "    return \"failed\"\n",
    "\n",
    "n = 1829\n",
    "B = 5\n",
    "a = 2\n",
    "\n",
    "A = a**math.factorial(B) % n\n",
    "print(A)\n",
    "F = math.gcd(A-1, n)\n",
    "\n",
    "E = n / F\n",
    "\n",
    "pollard(n, B)"
   ]
  },
  {
   "cell_type": "markdown",
   "metadata": {},
   "source": [
    "## Oppgave 6\n",
    "\n",
    "### a)\n",
    "\n",
    "$VS$: $e_{K}(x_{1}) \\cdot e_{K}(x_{2}) \\mod n$\n",
    "\n",
    "$HS$: $e_{K}(x_{1} \\cdot x_{2}) \\mod n$\n",
    "\n",
    "Funksjonen $e_{K}(x)$ tar $x$ som input og gir $x^{e}$ som output\n",
    "\n",
    "Vi får da:\n",
    "\n",
    "$VS$: $e_{K}(x_{1}) \\cdot e_{K}(x_{2}) \\mod n = (x_{1}^{e}) \\cdot (x_{2}^{e}) \\mod n$\n",
    "\n",
    "Bruker potensregelen for å trekke ut $e \\implies VS = (x_{1} \\cdot x_{2})^{e} \\mod n$\n",
    "\n",
    "$HS$: $e_{K}(x_{1} \\cdot x_{2}) \\mod n = (x_{1} \\cdot x_{2})^{e} \\mod n$\n",
    "\n",
    "$VS = HS$\n",
    "\n",
    "$QED$\n",
    "\n",
    "### b)\n",
    "\n",
    "\n",
    "- $x' = d_{K}(y')$\n",
    "- $ = d_{K}(y \\cdot r^{e})^{d}$\n",
    "- $ = (y \\cdot r^{e})^{d}$\n",
    "- $ = (e_{K}(x) \\cdot r^{e})^{d}$\n",
    "- $ = (x^{e} \\cdot r^{e})^{d}$\n",
    "- $ = (x^{e})^{d} \\cdot (r^{e})^d \\mod n$\n",
    "- $ = x \\cdot r \\mod n$\n",
    "\n",
    "$ \\implies x = x' \\cdot r^{-1} \\mod n = x' / r \\mod n$"
   ]
  },
  {
   "cell_type": "markdown",
   "metadata": {},
   "source": [
    "## Oppgave 7\n",
    "\n",
    "### a)\n",
    "\n",
    "Det er gitt at $p$ og $q$ er begge primtall og oddetall større enn $2$\n",
    "\n",
    "Vi kan skrive $q - p = 2d$, der $d$ er et heltall, fordi $q$ og $p$ er oddetall. \n",
    "\n",
    "Vi kan først si at $q - p = D$ (et heltall og partall). Oddetall + eller minus et annet oddetall gir alltid et partall, med $0$ som unntak. \n",
    "\n",
    "Siden $D$ er partall kan vi dele det på $2$ slik: $D / 2 = d$. \n",
    "\n",
    "Vi har nå et annet heltall (kan være enten partall eller oddetall). Dette kan vi skrive om igjen til $D = 2d$ som da betyr at $q - p = 2d$. \n",
    "\n",
    "### b)\n",
    "\n",
    "$n = q \\cdot p$\n",
    "\n",
    "$q - p = 2d \\implies d = (q - p) / 2$\n",
    "\n",
    "- $n + d^{2} = (q \\cdot p) + ((q - p) / 2)^{2}$\n",
    "- $= q \\cdot p + (q - p)^{2} / 4$\n",
    "- $= q \\cdot p + (q^{2} - 2qp + p^{2}) / 4$\n",
    "- $= (4 \\cdot (q \\cdot p)) / 4 + (q^{2} - 2qp + p^{2}) / 4$\n",
    "- $= (4 \\cdot (q \\cdot p) + q^{2} - 2qp + p^{2}) / 4$\n",
    "- $= (q^{2} + 2qp + p^{2}) / 4$\n",
    "- $= ((q + p)^{2}) / 4$\n",
    "- $= ((q + p)^{2}) / 2^{2}$\n",
    "- $= ((q + p) / 2)^{2}$\n",
    "\n",
    "$d = (q - p) / 2$ og $t = (q + p) / 2$\n",
    "\n",
    "$n + d^{2} = t^{2}$\n",
    "\n",
    "Vi ser at $n + d^{2}$ er et kvadrat (altså kvadrattall) av tallet $(q + p) / 2$\n",
    "\n",
    "### c)\n",
    "\n",
    "- $t^{2} = n + d^{2}$\n",
    "- $\\implies n = t^{2} - d^{2}$\n",
    "- $\\implies q \\cdot p = t^{2} - d^{2}$\n",
    "- $\\implies q \\cdot p = (t - d) \\cdot (t + d)$\n",
    "- $\\implies q = t - d$ og $p = t + d$\n",
    "\n",
    "\n",
    "Anntar $d^{2}$ er liten nok.\n",
    "\n",
    "- $\\implies t = \\sqrt{n + d^{2}} \\approx \\sqrt{n}$\n",
    "\n",
    "Vi kan prøve oss fram med å øke t med en av gangen til vi får en d ($\\sqrt{t^{2}-n}$) som et heltall\n",
    "\n",
    "Da får vi at $q = t - \\sqrt{t^{2}-n}$ og $p = t + \\sqrt{t^{2}-n}$, for $\\sqrt{t^{2}-n} \\in \\mathbb{Z}$\n",
    "\n",
    "### d)\n",
    "\n",
    "$n = 152416580095517$\n",
    "\n",
    "$t \\approx \\sqrt{n} = \\sqrt{152416580095517} = $"
   ]
  },
  {
   "cell_type": "code",
   "execution_count": 6,
   "metadata": {},
   "outputs": [
    {
     "data": {
      "text/plain": [
       "(12345709.0, 12345713.0)"
      ]
     },
     "execution_count": 6,
     "metadata": {},
     "output_type": "execute_result"
    }
   ],
   "source": [
    "def factorize_to_close_primes(n):\n",
    "    q, p = -1, -1\n",
    "    notDone = True\n",
    "    i = 0\n",
    "    while notDone:\n",
    "        t = math.ceil(math.sqrt(n)) + i\n",
    "        d = math.sqrt(t**2 - n)\n",
    "        if d.is_integer():\n",
    "            q = t - d\n",
    "            p = t + d\n",
    "            notDone = False\n",
    "        \n",
    "        i += 1\n",
    "            \n",
    "    return q, p\n",
    "        \n",
    "factorize_to_close_primes(152416580095517)"
   ]
  },
  {
   "cell_type": "code",
   "execution_count": 7,
   "metadata": {},
   "outputs": [
    {
     "data": {
      "text/plain": [
       "152416580095517.0"
      ]
     },
     "execution_count": 7,
     "metadata": {},
     "output_type": "execute_result"
    }
   ],
   "source": [
    "12345709.0 * 12345713.0"
   ]
  }
 ],
 "metadata": {
  "datalore": {
   "base_environment": "default",
   "computation_mode": "JUPYTER",
   "package_manager": "pip",
   "packages": [],
   "version": 1
  },
  "kernelspec": {
   "display_name": "Python 3.10.8 ('krypto_3-RDqFBtsV')",
   "language": "python",
   "name": "python3"
  },
  "language_info": {
   "codemirror_mode": {
    "name": "ipython",
    "version": 3
   },
   "file_extension": ".py",
   "mimetype": "text/x-python",
   "name": "python",
   "nbconvert_exporter": "python",
   "pygments_lexer": "ipython3",
   "version": "3.10.8"
  },
  "vscode": {
   "interpreter": {
    "hash": "7647f43ea379abfe0956e3ef59f6faf903e58c6d8041f485fa50899e0695cb04"
   }
  }
 },
 "nbformat": 4,
 "nbformat_minor": 4
}
